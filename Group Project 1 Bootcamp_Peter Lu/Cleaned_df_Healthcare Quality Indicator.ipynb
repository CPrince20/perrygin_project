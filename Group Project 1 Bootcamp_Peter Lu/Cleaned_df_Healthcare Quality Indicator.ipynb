{
 "cells": [
  {
   "cell_type": "code",
   "execution_count": 1,
   "metadata": {},
   "outputs": [],
   "source": [
    "import pandas as pd\n",
    "import csv\n",
    "import matplotlib.pyplot as plt\n",
    "import numpy as np"
   ]
  },
  {
   "cell_type": "code",
   "execution_count": 2,
   "metadata": {},
   "outputs": [],
   "source": [
    "df = pd.read_csv('HEALTH_HCQI_2016.csv')"
   ]
  },
  {
   "cell_type": "code",
   "execution_count": 3,
   "metadata": {},
   "outputs": [
    {
     "data": {
      "text/html": [
       "<div>\n",
       "<style scoped>\n",
       "    .dataframe tbody tr th:only-of-type {\n",
       "        vertical-align: middle;\n",
       "    }\n",
       "\n",
       "    .dataframe tbody tr th {\n",
       "        vertical-align: top;\n",
       "    }\n",
       "\n",
       "    .dataframe thead th {\n",
       "        text-align: right;\n",
       "    }\n",
       "</style>\n",
       "<table border=\"1\" class=\"dataframe\">\n",
       "  <thead>\n",
       "    <tr style=\"text-align: right;\">\n",
       "      <th></th>\n",
       "      <th>Country</th>\n",
       "      <th>Periods</th>\n",
       "      <th>IND</th>\n",
       "      <th>Indicator</th>\n",
       "      <th>Age Group</th>\n",
       "      <th>VAL</th>\n",
       "      <th>Value</th>\n",
       "      <th>Value.1</th>\n",
       "    </tr>\n",
       "  </thead>\n",
       "  <tbody>\n",
       "    <tr>\n",
       "      <th>0</th>\n",
       "      <td>Canada</td>\n",
       "      <td>2016</td>\n",
       "      <td>SUICMENT</td>\n",
       "      <td>In-patient suicide among patients diagnosed wi...</td>\n",
       "      <td>15 years old and over</td>\n",
       "      <td>AS_STD_RATE_CPAT</td>\n",
       "      <td>Age-sex standardised rate per 100 patients</td>\n",
       "      <td>0.05</td>\n",
       "    </tr>\n",
       "    <tr>\n",
       "      <th>1</th>\n",
       "      <td>Canada</td>\n",
       "      <td>2016</td>\n",
       "      <td>FORBPROC</td>\n",
       "      <td>Foreign body left in during procedure</td>\n",
       "      <td>15 years old and over</td>\n",
       "      <td>CRUDE_DIS_ALL</td>\n",
       "      <td>Crude rate per 100 000 hospital discharges (Al...</td>\n",
       "      <td>10.30</td>\n",
       "    </tr>\n",
       "    <tr>\n",
       "      <th>2</th>\n",
       "      <td>Canada</td>\n",
       "      <td>2016</td>\n",
       "      <td>POSTWODE</td>\n",
       "      <td>Post-operative wound dehiscence</td>\n",
       "      <td>15 years old and over</td>\n",
       "      <td>CRUDE_DIS_SURG</td>\n",
       "      <td>Crude rate per 100 000 hospital discharges (Su...</td>\n",
       "      <td>128.70</td>\n",
       "    </tr>\n",
       "    <tr>\n",
       "      <th>3</th>\n",
       "      <td>Canada</td>\n",
       "      <td>2016</td>\n",
       "      <td>POSTWODE</td>\n",
       "      <td>Post-operative wound dehiscence</td>\n",
       "      <td>15 years old and over</td>\n",
       "      <td>CRUDE_DIS_ALL</td>\n",
       "      <td>Crude rate per 100 000 hospital discharges (Al...</td>\n",
       "      <td>185.60</td>\n",
       "    </tr>\n",
       "    <tr>\n",
       "      <th>4</th>\n",
       "      <td>Canada</td>\n",
       "      <td>2016</td>\n",
       "      <td>POSTPESP</td>\n",
       "      <td>Post-operative pulmonary embolism after hip or...</td>\n",
       "      <td>15 years old and over</td>\n",
       "      <td>CRUDE_DIS_ALL</td>\n",
       "      <td>Crude rate per 100 000 hospital discharges (Al...</td>\n",
       "      <td>568.30</td>\n",
       "    </tr>\n",
       "    <tr>\n",
       "      <th>5</th>\n",
       "      <td>Canada</td>\n",
       "      <td>2016</td>\n",
       "      <td>POSTDVSP</td>\n",
       "      <td>Post-operative deep vein thrombosis after hip ...</td>\n",
       "      <td>15 years old and over</td>\n",
       "      <td>CRUDE_DIS_ALL</td>\n",
       "      <td>Crude rate per 100 000 hospital discharges (Al...</td>\n",
       "      <td>283.10</td>\n",
       "    </tr>\n",
       "    <tr>\n",
       "      <th>6</th>\n",
       "      <td>Canada</td>\n",
       "      <td>2016</td>\n",
       "      <td>POSTSESP</td>\n",
       "      <td>Post-operative sepsis after abdominal surgery</td>\n",
       "      <td>15 years old and over</td>\n",
       "      <td>CRUDE_DIS_SURG</td>\n",
       "      <td>Crude rate per 100 000 hospital discharges (Su...</td>\n",
       "      <td>1014.80</td>\n",
       "    </tr>\n",
       "    <tr>\n",
       "      <th>7</th>\n",
       "      <td>Canada</td>\n",
       "      <td>2016</td>\n",
       "      <td>POSTSESP</td>\n",
       "      <td>Post-operative sepsis after abdominal surgery</td>\n",
       "      <td>15 years old and over</td>\n",
       "      <td>CRUDE_DIS_ALL</td>\n",
       "      <td>Crude rate per 100 000 hospital discharges (Al...</td>\n",
       "      <td>1232.50</td>\n",
       "    </tr>\n",
       "    <tr>\n",
       "      <th>8</th>\n",
       "      <td>United States</td>\n",
       "      <td>2016</td>\n",
       "      <td>POSTWODE</td>\n",
       "      <td>Post-operative wound dehiscence</td>\n",
       "      <td>15 years old and over</td>\n",
       "      <td>CRUDE_DIS_SURG</td>\n",
       "      <td>Crude rate per 100 000 hospital discharges (Su...</td>\n",
       "      <td>68.30</td>\n",
       "    </tr>\n",
       "    <tr>\n",
       "      <th>9</th>\n",
       "      <td>United States</td>\n",
       "      <td>2016</td>\n",
       "      <td>POSTPESP</td>\n",
       "      <td>Post-operative pulmonary embolism after hip or...</td>\n",
       "      <td>15 years old and over</td>\n",
       "      <td>CRUDE_DIS_SURG</td>\n",
       "      <td>Crude rate per 100 000 hospital discharges (Su...</td>\n",
       "      <td>446.20</td>\n",
       "    </tr>\n",
       "    <tr>\n",
       "      <th>10</th>\n",
       "      <td>United States</td>\n",
       "      <td>2016</td>\n",
       "      <td>POSTDVSP</td>\n",
       "      <td>Post-operative deep vein thrombosis after hip ...</td>\n",
       "      <td>15 years old and over</td>\n",
       "      <td>CRUDE_DIS_SURG</td>\n",
       "      <td>Crude rate per 100 000 hospital discharges (Su...</td>\n",
       "      <td>421.10</td>\n",
       "    </tr>\n",
       "    <tr>\n",
       "      <th>11</th>\n",
       "      <td>United States</td>\n",
       "      <td>2016</td>\n",
       "      <td>POSTSESP</td>\n",
       "      <td>Post-operative sepsis after abdominal surgery</td>\n",
       "      <td>15 years old and over</td>\n",
       "      <td>CRUDE_DIS_SURG</td>\n",
       "      <td>Crude rate per 100 000 hospital discharges (Su...</td>\n",
       "      <td>1048.60</td>\n",
       "    </tr>\n",
       "    <tr>\n",
       "      <th>12</th>\n",
       "      <td>Canada</td>\n",
       "      <td>2016</td>\n",
       "      <td>ADMRASTH</td>\n",
       "      <td>Asthma hospital admission</td>\n",
       "      <td>15 years old and over</td>\n",
       "      <td>AS_STD_RATE_MPOP</td>\n",
       "      <td>Age-sex standardised rate per 100 000 population</td>\n",
       "      <td>14.20</td>\n",
       "    </tr>\n",
       "    <tr>\n",
       "      <th>13</th>\n",
       "      <td>Canada</td>\n",
       "      <td>2016</td>\n",
       "      <td>ADMRCOPD</td>\n",
       "      <td>Chronic obstructive pulmonary disease hospital...</td>\n",
       "      <td>15 years old and over</td>\n",
       "      <td>AS_STD_RATE_MPOP</td>\n",
       "      <td>Age-sex standardised rate per 100 000 population</td>\n",
       "      <td>235.40</td>\n",
       "    </tr>\n",
       "    <tr>\n",
       "      <th>14</th>\n",
       "      <td>Canada</td>\n",
       "      <td>2016</td>\n",
       "      <td>ADMRCHFL</td>\n",
       "      <td>Congestive heart failure hospital admission</td>\n",
       "      <td>15 years old and over</td>\n",
       "      <td>AS_STD_RATE_MPOP</td>\n",
       "      <td>Age-sex standardised rate per 100 000 population</td>\n",
       "      <td>164.30</td>\n",
       "    </tr>\n",
       "    <tr>\n",
       "      <th>15</th>\n",
       "      <td>Canada</td>\n",
       "      <td>2016</td>\n",
       "      <td>ADMRDBUC</td>\n",
       "      <td>Diabetes hospital admission</td>\n",
       "      <td>15 years old and over</td>\n",
       "      <td>AS_STD_RATE_MPOP</td>\n",
       "      <td>Age-sex standardised rate per 100 000 population</td>\n",
       "      <td>92.90</td>\n",
       "    </tr>\n",
       "    <tr>\n",
       "      <th>16</th>\n",
       "      <td>Canada</td>\n",
       "      <td>2016</td>\n",
       "      <td>ADMRDBLE</td>\n",
       "      <td>Admission based diabetes lower extremity amput...</td>\n",
       "      <td>15 years old and over</td>\n",
       "      <td>AS_STD_RATE_MPOP</td>\n",
       "      <td>Age-sex standardised rate per 100 000 population</td>\n",
       "      <td>6.80</td>\n",
       "    </tr>\n",
       "    <tr>\n",
       "      <th>17</th>\n",
       "      <td>Canada</td>\n",
       "      <td>2016</td>\n",
       "      <td>ADMRDBLE</td>\n",
       "      <td>Admission based diabetes lower extremity amput...</td>\n",
       "      <td>15 years old and over</td>\n",
       "      <td>AS_STD_RATE_MDIAB</td>\n",
       "      <td>Age-sex standardised rate per 100 000 people w...</td>\n",
       "      <td>50.90</td>\n",
       "    </tr>\n",
       "    <tr>\n",
       "      <th>18</th>\n",
       "      <td>Canada</td>\n",
       "      <td>2016</td>\n",
       "      <td>ADMRHYPT</td>\n",
       "      <td>Hypertension hospital admission</td>\n",
       "      <td>15 years old and over</td>\n",
       "      <td>AS_STD_RATE_MPOP</td>\n",
       "      <td>Age-sex standardised rate per 100 000 population</td>\n",
       "      <td>14.10</td>\n",
       "    </tr>\n",
       "    <tr>\n",
       "      <th>19</th>\n",
       "      <td>Canada</td>\n",
       "      <td>2016</td>\n",
       "      <td>PATRDBLE</td>\n",
       "      <td>Patient-based diabetes lower extremity amputation</td>\n",
       "      <td>15 years old and over</td>\n",
       "      <td>AS_STD_RATE_MPOP</td>\n",
       "      <td>Age-sex standardised rate per 100 000 population</td>\n",
       "      <td>6.60</td>\n",
       "    </tr>\n",
       "    <tr>\n",
       "      <th>20</th>\n",
       "      <td>Canada</td>\n",
       "      <td>2016</td>\n",
       "      <td>PATRDBLE</td>\n",
       "      <td>Patient-based diabetes lower extremity amputation</td>\n",
       "      <td>15 years old and over</td>\n",
       "      <td>AS_STD_RATE_MDIAB</td>\n",
       "      <td>Age-sex standardised rate per 100 000 people w...</td>\n",
       "      <td>49.80</td>\n",
       "    </tr>\n",
       "    <tr>\n",
       "      <th>21</th>\n",
       "      <td>United States</td>\n",
       "      <td>2016</td>\n",
       "      <td>ADMRASTH</td>\n",
       "      <td>Asthma hospital admission</td>\n",
       "      <td>15 years old and over</td>\n",
       "      <td>AS_STD_RATE_MPOP</td>\n",
       "      <td>Age-sex standardised rate per 100 000 population</td>\n",
       "      <td>39.20</td>\n",
       "    </tr>\n",
       "    <tr>\n",
       "      <th>22</th>\n",
       "      <td>United States</td>\n",
       "      <td>2016</td>\n",
       "      <td>ADMRCOPD</td>\n",
       "      <td>Chronic obstructive pulmonary disease hospital...</td>\n",
       "      <td>15 years old and over</td>\n",
       "      <td>AS_STD_RATE_MPOP</td>\n",
       "      <td>Age-sex standardised rate per 100 000 population</td>\n",
       "      <td>228.90</td>\n",
       "    </tr>\n",
       "    <tr>\n",
       "      <th>23</th>\n",
       "      <td>United States</td>\n",
       "      <td>2016</td>\n",
       "      <td>ADMRCHFL</td>\n",
       "      <td>Congestive heart failure hospital admission</td>\n",
       "      <td>15 years old and over</td>\n",
       "      <td>AS_STD_RATE_MPOP</td>\n",
       "      <td>Age-sex standardised rate per 100 000 population</td>\n",
       "      <td>371.40</td>\n",
       "    </tr>\n",
       "    <tr>\n",
       "      <th>24</th>\n",
       "      <td>United States</td>\n",
       "      <td>2016</td>\n",
       "      <td>ADMRDBUC</td>\n",
       "      <td>Diabetes hospital admission</td>\n",
       "      <td>15 years old and over</td>\n",
       "      <td>AS_STD_RATE_MPOP</td>\n",
       "      <td>Age-sex standardised rate per 100 000 population</td>\n",
       "      <td>169.70</td>\n",
       "    </tr>\n",
       "    <tr>\n",
       "      <th>25</th>\n",
       "      <td>United States</td>\n",
       "      <td>2016</td>\n",
       "      <td>ADMRHYPT</td>\n",
       "      <td>Hypertension hospital admission</td>\n",
       "      <td>15 years old and over</td>\n",
       "      <td>AS_STD_RATE_MPOP</td>\n",
       "      <td>Age-sex standardised rate per 100 000 population</td>\n",
       "      <td>46.00</td>\n",
       "    </tr>\n",
       "  </tbody>\n",
       "</table>\n",
       "</div>"
      ],
      "text/plain": [
       "          Country  Periods       IND  \\\n",
       "0          Canada     2016  SUICMENT   \n",
       "1          Canada     2016  FORBPROC   \n",
       "2          Canada     2016  POSTWODE   \n",
       "3          Canada     2016  POSTWODE   \n",
       "4          Canada     2016  POSTPESP   \n",
       "5          Canada     2016  POSTDVSP   \n",
       "6          Canada     2016  POSTSESP   \n",
       "7          Canada     2016  POSTSESP   \n",
       "8   United States     2016  POSTWODE   \n",
       "9   United States     2016  POSTPESP   \n",
       "10  United States     2016  POSTDVSP   \n",
       "11  United States     2016  POSTSESP   \n",
       "12         Canada     2016  ADMRASTH   \n",
       "13         Canada     2016  ADMRCOPD   \n",
       "14         Canada     2016  ADMRCHFL   \n",
       "15         Canada     2016  ADMRDBUC   \n",
       "16         Canada     2016  ADMRDBLE   \n",
       "17         Canada     2016  ADMRDBLE   \n",
       "18         Canada     2016  ADMRHYPT   \n",
       "19         Canada     2016  PATRDBLE   \n",
       "20         Canada     2016  PATRDBLE   \n",
       "21  United States     2016  ADMRASTH   \n",
       "22  United States     2016  ADMRCOPD   \n",
       "23  United States     2016  ADMRCHFL   \n",
       "24  United States     2016  ADMRDBUC   \n",
       "25  United States     2016  ADMRHYPT   \n",
       "\n",
       "                                            Indicator              Age Group  \\\n",
       "0   In-patient suicide among patients diagnosed wi...  15 years old and over   \n",
       "1               Foreign body left in during procedure  15 years old and over   \n",
       "2                     Post-operative wound dehiscence  15 years old and over   \n",
       "3                     Post-operative wound dehiscence  15 years old and over   \n",
       "4   Post-operative pulmonary embolism after hip or...  15 years old and over   \n",
       "5   Post-operative deep vein thrombosis after hip ...  15 years old and over   \n",
       "6       Post-operative sepsis after abdominal surgery  15 years old and over   \n",
       "7       Post-operative sepsis after abdominal surgery  15 years old and over   \n",
       "8                     Post-operative wound dehiscence  15 years old and over   \n",
       "9   Post-operative pulmonary embolism after hip or...  15 years old and over   \n",
       "10  Post-operative deep vein thrombosis after hip ...  15 years old and over   \n",
       "11      Post-operative sepsis after abdominal surgery  15 years old and over   \n",
       "12                          Asthma hospital admission  15 years old and over   \n",
       "13  Chronic obstructive pulmonary disease hospital...  15 years old and over   \n",
       "14        Congestive heart failure hospital admission  15 years old and over   \n",
       "15                       Diabetes hospital admission   15 years old and over   \n",
       "16  Admission based diabetes lower extremity amput...  15 years old and over   \n",
       "17  Admission based diabetes lower extremity amput...  15 years old and over   \n",
       "18                    Hypertension hospital admission  15 years old and over   \n",
       "19  Patient-based diabetes lower extremity amputation  15 years old and over   \n",
       "20  Patient-based diabetes lower extremity amputation  15 years old and over   \n",
       "21                          Asthma hospital admission  15 years old and over   \n",
       "22  Chronic obstructive pulmonary disease hospital...  15 years old and over   \n",
       "23        Congestive heart failure hospital admission  15 years old and over   \n",
       "24                       Diabetes hospital admission   15 years old and over   \n",
       "25                    Hypertension hospital admission  15 years old and over   \n",
       "\n",
       "                  VAL                                              Value  \\\n",
       "0    AS_STD_RATE_CPAT         Age-sex standardised rate per 100 patients   \n",
       "1       CRUDE_DIS_ALL  Crude rate per 100 000 hospital discharges (Al...   \n",
       "2      CRUDE_DIS_SURG  Crude rate per 100 000 hospital discharges (Su...   \n",
       "3       CRUDE_DIS_ALL  Crude rate per 100 000 hospital discharges (Al...   \n",
       "4       CRUDE_DIS_ALL  Crude rate per 100 000 hospital discharges (Al...   \n",
       "5       CRUDE_DIS_ALL  Crude rate per 100 000 hospital discharges (Al...   \n",
       "6      CRUDE_DIS_SURG  Crude rate per 100 000 hospital discharges (Su...   \n",
       "7       CRUDE_DIS_ALL  Crude rate per 100 000 hospital discharges (Al...   \n",
       "8      CRUDE_DIS_SURG  Crude rate per 100 000 hospital discharges (Su...   \n",
       "9      CRUDE_DIS_SURG  Crude rate per 100 000 hospital discharges (Su...   \n",
       "10     CRUDE_DIS_SURG  Crude rate per 100 000 hospital discharges (Su...   \n",
       "11     CRUDE_DIS_SURG  Crude rate per 100 000 hospital discharges (Su...   \n",
       "12   AS_STD_RATE_MPOP   Age-sex standardised rate per 100 000 population   \n",
       "13   AS_STD_RATE_MPOP   Age-sex standardised rate per 100 000 population   \n",
       "14   AS_STD_RATE_MPOP   Age-sex standardised rate per 100 000 population   \n",
       "15   AS_STD_RATE_MPOP   Age-sex standardised rate per 100 000 population   \n",
       "16   AS_STD_RATE_MPOP   Age-sex standardised rate per 100 000 population   \n",
       "17  AS_STD_RATE_MDIAB  Age-sex standardised rate per 100 000 people w...   \n",
       "18   AS_STD_RATE_MPOP   Age-sex standardised rate per 100 000 population   \n",
       "19   AS_STD_RATE_MPOP   Age-sex standardised rate per 100 000 population   \n",
       "20  AS_STD_RATE_MDIAB  Age-sex standardised rate per 100 000 people w...   \n",
       "21   AS_STD_RATE_MPOP   Age-sex standardised rate per 100 000 population   \n",
       "22   AS_STD_RATE_MPOP   Age-sex standardised rate per 100 000 population   \n",
       "23   AS_STD_RATE_MPOP   Age-sex standardised rate per 100 000 population   \n",
       "24   AS_STD_RATE_MPOP   Age-sex standardised rate per 100 000 population   \n",
       "25   AS_STD_RATE_MPOP   Age-sex standardised rate per 100 000 population   \n",
       "\n",
       "    Value.1  \n",
       "0      0.05  \n",
       "1     10.30  \n",
       "2    128.70  \n",
       "3    185.60  \n",
       "4    568.30  \n",
       "5    283.10  \n",
       "6   1014.80  \n",
       "7   1232.50  \n",
       "8     68.30  \n",
       "9    446.20  \n",
       "10   421.10  \n",
       "11  1048.60  \n",
       "12    14.20  \n",
       "13   235.40  \n",
       "14   164.30  \n",
       "15    92.90  \n",
       "16     6.80  \n",
       "17    50.90  \n",
       "18    14.10  \n",
       "19     6.60  \n",
       "20    49.80  \n",
       "21    39.20  \n",
       "22   228.90  \n",
       "23   371.40  \n",
       "24   169.70  \n",
       "25    46.00  "
      ]
     },
     "execution_count": 3,
     "metadata": {},
     "output_type": "execute_result"
    }
   ],
   "source": [
    "df"
   ]
  },
  {
   "cell_type": "code",
   "execution_count": 4,
   "metadata": {},
   "outputs": [],
   "source": [
    "# canada = df.loc[df[\"Country\"]==\"Canada\", ['Indicator','Value.1','Value']]\n",
    "# US = df.loc[df[\"Country\"]==\"United States\",['Indicator','Value.1','Value']]\n",
    "canada = df.loc[df[\"Country\"]==\"Canada\"]\n",
    "US = df.loc[df[\"Country\"]==\"United States\"]"
   ]
  },
  {
   "cell_type": "code",
   "execution_count": 5,
   "metadata": {},
   "outputs": [],
   "source": [
    "cananda_df = canada[['Indicator','Value','Value.1']].reset_index(drop=True)\n",
    "US_df = US[['Indicator','Value','Value.1']].reset_index(drop=True)\n"
   ]
  },
  {
   "cell_type": "code",
   "execution_count": 6,
   "metadata": {
    "scrolled": true
   },
   "outputs": [
    {
     "data": {
      "text/html": [
       "<div>\n",
       "<style scoped>\n",
       "    .dataframe tbody tr th:only-of-type {\n",
       "        vertical-align: middle;\n",
       "    }\n",
       "\n",
       "    .dataframe tbody tr th {\n",
       "        vertical-align: top;\n",
       "    }\n",
       "\n",
       "    .dataframe thead th {\n",
       "        text-align: right;\n",
       "    }\n",
       "</style>\n",
       "<table border=\"1\" class=\"dataframe\">\n",
       "  <thead>\n",
       "    <tr style=\"text-align: right;\">\n",
       "      <th></th>\n",
       "      <th>Indicator</th>\n",
       "      <th>Description</th>\n",
       "      <th>Canada</th>\n",
       "      <th>US</th>\n",
       "    </tr>\n",
       "  </thead>\n",
       "  <tbody>\n",
       "    <tr>\n",
       "      <th>0</th>\n",
       "      <td>Post-operative wound dehiscence</td>\n",
       "      <td>Crude rate per 100 000 hospital discharges (Su...</td>\n",
       "      <td>128.7</td>\n",
       "      <td>68.3</td>\n",
       "    </tr>\n",
       "    <tr>\n",
       "      <th>1</th>\n",
       "      <td>Post-operative sepsis after abdominal surgery</td>\n",
       "      <td>Crude rate per 100 000 hospital discharges (Su...</td>\n",
       "      <td>1014.8</td>\n",
       "      <td>1048.6</td>\n",
       "    </tr>\n",
       "    <tr>\n",
       "      <th>2</th>\n",
       "      <td>Asthma hospital admission</td>\n",
       "      <td>Age-sex standardised rate per 100 000 population</td>\n",
       "      <td>14.2</td>\n",
       "      <td>39.2</td>\n",
       "    </tr>\n",
       "    <tr>\n",
       "      <th>3</th>\n",
       "      <td>Chronic obstructive pulmonary disease hospital...</td>\n",
       "      <td>Age-sex standardised rate per 100 000 population</td>\n",
       "      <td>235.4</td>\n",
       "      <td>228.9</td>\n",
       "    </tr>\n",
       "    <tr>\n",
       "      <th>4</th>\n",
       "      <td>Congestive heart failure hospital admission</td>\n",
       "      <td>Age-sex standardised rate per 100 000 population</td>\n",
       "      <td>164.3</td>\n",
       "      <td>371.4</td>\n",
       "    </tr>\n",
       "    <tr>\n",
       "      <th>5</th>\n",
       "      <td>Diabetes hospital admission</td>\n",
       "      <td>Age-sex standardised rate per 100 000 population</td>\n",
       "      <td>92.9</td>\n",
       "      <td>169.7</td>\n",
       "    </tr>\n",
       "    <tr>\n",
       "      <th>6</th>\n",
       "      <td>Hypertension hospital admission</td>\n",
       "      <td>Age-sex standardised rate per 100 000 population</td>\n",
       "      <td>14.1</td>\n",
       "      <td>46.0</td>\n",
       "    </tr>\n",
       "  </tbody>\n",
       "</table>\n",
       "</div>"
      ],
      "text/plain": [
       "                                           Indicator  \\\n",
       "0                    Post-operative wound dehiscence   \n",
       "1      Post-operative sepsis after abdominal surgery   \n",
       "2                          Asthma hospital admission   \n",
       "3  Chronic obstructive pulmonary disease hospital...   \n",
       "4        Congestive heart failure hospital admission   \n",
       "5                       Diabetes hospital admission    \n",
       "6                    Hypertension hospital admission   \n",
       "\n",
       "                                         Description  Canada      US  \n",
       "0  Crude rate per 100 000 hospital discharges (Su...   128.7    68.3  \n",
       "1  Crude rate per 100 000 hospital discharges (Su...  1014.8  1048.6  \n",
       "2   Age-sex standardised rate per 100 000 population    14.2    39.2  \n",
       "3   Age-sex standardised rate per 100 000 population   235.4   228.9  \n",
       "4   Age-sex standardised rate per 100 000 population   164.3   371.4  \n",
       "5   Age-sex standardised rate per 100 000 population    92.9   169.7  \n",
       "6   Age-sex standardised rate per 100 000 population    14.1    46.0  "
      ]
     },
     "execution_count": 6,
     "metadata": {},
     "output_type": "execute_result"
    }
   ],
   "source": [
    "cleaned_df = pd.merge(cananda_df, US_df, on = ['Indicator','Value'])\n",
    "cleaned_df.rename(columns={'Value':'Description',\n",
    "                           'Value.1_x':'Canada',\n",
    "                           'Value.1_y':'US'},inplace=True)\n",
    "cleaned_df.to_csv(\"Cleaned_df_Healthcare Quality Indicator.csv\")\n",
    "cleaned_df"
   ]
  },
  {
   "cell_type": "code",
   "execution_count": 7,
   "metadata": {},
   "outputs": [],
   "source": [
    "cleaned_df.reset_index(drop=True, inplace=True)"
   ]
  },
  {
   "cell_type": "code",
   "execution_count": 51,
   "metadata": {},
   "outputs": [
    {
     "data": {
      "image/png": "[encoded data removed]",
      "text/plain": [
       "<Figure size 432x288 with 1 Axes>"
      ]
     },
     "metadata": {
      "needs_background": "light"
     },
     "output_type": "display_data"
    }
   ],
   "source": [
    "bar_graph = cleaned_df.plot.barh(x='Indicator',rot=0,title=\"Canada VS. US - Healthcare Key Indicators\")\n",
    "plt.xlabel('Per 100,000 population')\n",
    "plt.savefig('Bar_Graphs/Overall_bar.jpeg')\n",
    "plt.show()"
   ]
  },
  {
   "cell_type": "code",
   "execution_count": 52,
   "metadata": {},
   "outputs": [
    {
     "data": {
      "image/png": "[encoded data removed]",
      "text/plain": [
       "<Figure size 432x288 with 1 Axes>"
      ]
     },
     "metadata": {
      "needs_background": "light"
     },
     "output_type": "display_data"
    }
   ],
   "source": [
    "post_operative_wound_dehiscence_bar=cleaned_df.loc[cleaned_df['Indicator']=='Post-operative wound dehiscence',:]\\\n",
    ".plot.bar(x ='Indicator' ,rot=0)\n",
    "plt.ylabel('Per 100,000 population')\n",
    "plt.savefig('Bar_Graphs/post_operative_wound_dehiscence_bar.jpeg')\n",
    "plt.show()"
   ]
  },
  {
   "cell_type": "code",
   "execution_count": 53,
   "metadata": {},
   "outputs": [
    {
     "data": {
      "image/png": "[encoded data removed]",
      "text/plain": [
       "<Figure size 432x288 with 1 Axes>"
      ]
     },
     "metadata": {
      "needs_background": "light"
     },
     "output_type": "display_data"
    }
   ],
   "source": [
    "post_operative_sepsis_bar=cleaned_df.loc[cleaned_df['Indicator']=='Post-operative sepsis after abdominal surgery',:]\\\n",
    ".plot.bar(x ='Indicator' ,rot=0)\n",
    "plt.ylabel('Per 100,000 population')\n",
    "plt.savefig('Bar_Graphs/post_operative_sepsis_bar.jpeg')\n",
    "plt.show()"
   ]
  },
  {
   "cell_type": "code",
   "execution_count": 54,
   "metadata": {},
   "outputs": [
    {
     "data": {
      "image/png": "[encoded data removed]",
      "text/plain": [
       "<Figure size 432x288 with 1 Axes>"
      ]
     },
     "metadata": {
      "needs_background": "light"
     },
     "output_type": "display_data"
    }
   ],
   "source": [
    "asthma_hospital_admission_bar=cleaned_df.loc[cleaned_df['Indicator']=='Asthma hospital admission',:]\\\n",
    ".plot.bar(x ='Indicator' ,rot=0)\n",
    "plt.ylabel('Per 100,000 population')\n",
    "plt.savefig('Bar_Graphs/asthma_hospital_admission_bar.jpeg')\n",
    "plt.show()"
   ]
  },
  {
   "cell_type": "code",
   "execution_count": 55,
   "metadata": {},
   "outputs": [
    {
     "data": {
      "image/png": "[encoded data removed]",
      "text/plain": [
       "<Figure size 432x288 with 1 Axes>"
      ]
     },
     "metadata": {
      "needs_background": "light"
     },
     "output_type": "display_data"
    }
   ],
   "source": [
    "Chronic_obstructive_bar=cleaned_df.loc[cleaned_df['Indicator']=='Chronic obstructive pulmonary disease hospital admission',:]\\\n",
    ".plot.bar(x ='Indicator' ,rot=0)\n",
    "plt.ylabel('Per 100,000 population')\n",
    "plt.savefig('Bar_Graphs/Chronic_obstructive_bar.jpeg')\n",
    "plt.show()"
   ]
  },
  {
   "cell_type": "code",
   "execution_count": 56,
   "metadata": {},
   "outputs": [
    {
     "data": {
      "image/png": "[encoded data removed]",
      "text/plain": [
       "<Figure size 432x288 with 1 Axes>"
      ]
     },
     "metadata": {
      "needs_background": "light"
     },
     "output_type": "display_data"
    }
   ],
   "source": [
    "congestive_heart_failure_bar=cleaned_df.loc[cleaned_df['Indicator']=='Congestive heart failure hospital admission',:]\\\n",
    ".plot.bar(x ='Indicator' ,rot=0)\n",
    "plt.ylabel('Per 100,000 population')\n",
    "plt.savefig('Bar_Graphs/congestive_heart_failure_bar.jpeg')\n",
    "plt.show()"
   ]
  },
  {
   "cell_type": "code",
   "execution_count": 57,
   "metadata": {},
   "outputs": [
    {
     "data": {
      "image/png": "[encoded data removed]",
      "text/plain": [
       "<Figure size 432x288 with 1 Axes>"
      ]
     },
     "metadata": {
      "needs_background": "light"
     },
     "output_type": "display_data"
    }
   ],
   "source": [
    "diabetes_admission_bar=cleaned_df.loc[cleaned_df['Indicator']=='Diabetes hospital admission ',:]\\\n",
    ".plot.bar(x ='Indicator',rot=0)\n",
    "plt.ylabel('Per 100,000 population')\n",
    "plt.savefig('Bar_Graphs/diabetes_admission_bar.jpeg')\n",
    "plt.show()"
   ]
  },
  {
   "cell_type": "code",
   "execution_count": 58,
   "metadata": {},
   "outputs": [
    {
     "data": {
      "image/png": "[encoded data removed]",
      "text/plain": [
       "<Figure size 432x288 with 1 Axes>"
      ]
     },
     "metadata": {
      "needs_background": "light"
     },
     "output_type": "display_data"
    }
   ],
   "source": [
    "hypertension_admission_bar=cleaned_df.loc[cleaned_df['Indicator']=='Hypertension hospital admission',:]\\\n",
    ".plot.bar(x ='Indicator',rot=0)\n",
    "plt.ylabel('Per 100,000 population')\n",
    "plt.savefig('Bar_Graphs/hypertension_admission_bar.jpeg')\n",
    "plt.show()\n",
    "\n",
    "\n"
   ]
  },
  {
   "cell_type": "code",
   "execution_count": null,
   "metadata": {},
   "outputs": [],
   "source": []
  },
  {
   "cell_type": "code",
   "execution_count": null,
   "metadata": {},
   "outputs": [],
   "source": []
  }
 ],
 "metadata": {
  "kernelspec": {
   "display_name": "Python 3",
   "language": "python",
   "name": "python3"
  },
  "language_info": {
   "codemirror_mode": {
    "name": "ipython",
    "version": 3
   },
   "file_extension": ".py",
   "mimetype": "text/x-python",
   "name": "python",
   "nbconvert_exporter": "python",
   "pygments_lexer": "ipython3",
   "version": "3.7.6"
  }
 },
 "nbformat": 4,
 "nbformat_minor": 4
}
